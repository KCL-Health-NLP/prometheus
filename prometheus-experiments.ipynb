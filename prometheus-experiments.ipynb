{
 "cells": [
  {
   "cell_type": "markdown",
   "metadata": {
    "id": "i_2SOjDmNmOz"
   },
   "source": [
    "## Experiments with prometheus BERT models"
   ]
  },
  {
   "cell_type": "code",
   "execution_count": null,
   "metadata": {
    "id": "1GeSkr5Qgq-z"
   },
   "outputs": [],
   "source": [
    "################################################################################\n",
    "# Strings and constants\n",
    "################################################################################\n",
    "\n",
    "# Machine specific local variables.\n",
    "# Define these as a class, like the below.\n",
    "# Select which local variables to use by assigning\n",
    "# a class to LOCALS.\n",
    "\n",
    "# Locals when on colab\n",
    "class ColabLocals:\n",
    "  TORCH_TARGET_DEVICE = 'cpu'\n",
    "\n",
    "# Locals when on cusp_vm\n",
    "class CuspVmLocals:\n",
    "  TORCH_TARGET_DEVICE = 'cpu'\n",
    "    \n",
    "# Locals when on icat\n",
    "class IcatLocals:\n",
    "  TORCH_TARGET_DEVICE = 'cpu'\n",
    "\n",
    "# Dataset descriptions\n",
    "# Define these as a class, like the below\n",
    "# Select which dataset to use by assigning\n",
    "# a class to DATA\n",
    "\n",
    "# Imdb movie reviews dataset\n",
    "# Standard sentiment classification task\n",
    "# Contains around 5000 rows\n",
    "# Note that on colab, you might need to limit data slice to 1000 or less\n",
    "class ImdbDescription: \n",
    "  PATH = './sentence_classifier/sentence_classifier/imdb_5k_reviews.csv'\n",
    "  TEXT_COL = 'review'\n",
    "  LABEL_COL = 'sentiment'\n",
    "  TEST_TEXTS = ['hello my name is link i am in love with princess zelda',\n",
    "                'this is just a test sentence',\n",
    "                'project']\n",
    "\n",
    "  # We can limit the data we will use to just some of the dataset\n",
    "  # Use None if you want to specify start and end of dataset \n",
    "  SLICE_FROM = None\n",
    "  SLICE_TO = 100\n",
    "\n",
    "  # We can limit the text that will be used from the text column\n",
    "  # Use None if you want to specify start and end of the text\n",
    "  TEXT_FROM = None\n",
    "  TEXT_TO = 1000   \n",
    "\n",
    "# Model related parameters\n",
    "TOKENIZER = 'bert-base-uncased'\n",
    "TRAINING_EPOCHS = 1\n",
    "TRAINING_TEST_SIZE = 0.2"
   ]
  },
  {
   "cell_type": "code",
   "execution_count": null,
   "metadata": {
    "id": "9TEF5kw26v6U"
   },
   "outputs": [],
   "source": [
    "################################################################################\n",
    "# Imports\n",
    "################################################################################\n",
    "\n",
    "# these try blocks are for sometimes probelmatic imports\n",
    "# which are not installed on some machines being used\n",
    "\n",
    "# transformers is needed by BERT.py\n",
    "try:\n",
    "  import transformers\n",
    "except ImportError as e:\n",
    "  !pip install transformers\n",
    "\n",
    "# nltk is used by NLP_Utils.py, which is imported by BERT.py\n",
    "try:\n",
    "  import nltk\n",
    "except ImportError as e:\n",
    "  !pip install nltk\n",
    "\n",
    "# spacy is used by NLP_Utils.py, which is imported by BERT.py\n",
    "try:\n",
    "  import spacy\n",
    "except ImportError as e:\n",
    "  !pip install spacy\n",
    "\n",
    "# Prometheus classes\n",
    "from sentence_classifier.sentence_classifier.BERT import train_BERT\n",
    "from sentence_classifier.sentence_classifier.BERT import load_and_run_BERT\n",
    "\n",
    "# Other imports\n",
    "import pandas as pd\n",
    "import torch"
   ]
  },
  {
   "cell_type": "code",
   "execution_count": null,
   "metadata": {
    "id": "AXJAwuzmPaVm"
   },
   "outputs": [],
   "source": [
    "################################################################################\n",
    "# Load data and run Prometheus sentence classifier\n",
    "################################################################################\n",
    "\n",
    "# Select which locals and dataset to use\n",
    "LOCALS = IcatLocals\n",
    "DATA = ImdbDescription\n",
    "\n",
    "# Read in some data for training\n",
    "df = pd.read_csv(DATA.PATH,header=1)\n",
    "df = df[DATA.SLICE_FROM:DATA.SLICE_TO]\n",
    "\n",
    "df[DATA.TEXT_COL] = df[DATA.TEXT_COL].apply(\n",
    "    lambda x: x.strip().lower()[DATA.TEXT_FROM:DATA.TEXT_TO]\n",
    "    )\n",
    "df.tail()"
   ]
  },
  {
   "cell_type": "code",
   "execution_count": null,
   "metadata": {
    "id": "9drI8bHyQ557"
   },
   "outputs": [],
   "source": [
    "# Train model\n",
    "bert_model = train_BERT(sentences=df[DATA.TEXT_COL],\n",
    "                        labels=df[DATA.LABEL_COL],\n",
    "                        BERT_tokenizer=TOKENIZER,\n",
    "                        test_size=TRAINING_TEST_SIZE,\n",
    "                        n_epochs=TRAINING_EPOCHS,\n",
    "                        output_dir=None)\n",
    "bert_model['stats']"
   ]
  },
  {
   "cell_type": "code",
   "execution_count": null,
   "metadata": {
    "id": "ffduwhzDxDu7"
   },
   "outputs": [],
   "source": [
    "# Run the model on some test sentences\n",
    "# First need to move the model to the device being used\n",
    "model=bert_model['model']\n",
    "model.to(torch.device(LOCALS.TORCH_TARGET_DEVICE))\n",
    "\n",
    "load_and_run_BERT(sentences=DATA.TEST_TEXTS,\n",
    "                  trained_bert_model=model,\n",
    "                  BERT_tokenizer=TOKENIZER)"
   ]
  }
 ],
 "metadata": {
  "accelerator": "GPU",
  "colab": {
   "collapsed_sections": [],
   "private_outputs": true,
   "provenance": []
  },
  "gpuClass": "standard",
  "kernelspec": {
   "display_name": "Python 3 (ipykernel)",
   "language": "python",
   "name": "python3"
  },
  "language_info": {
   "codemirror_mode": {
    "name": "ipython",
    "version": 3
   },
   "file_extension": ".py",
   "mimetype": "text/x-python",
   "name": "python",
   "nbconvert_exporter": "python",
   "pygments_lexer": "ipython3",
   "version": "3.8.5"
  }
 },
 "nbformat": 4,
 "nbformat_minor": 1
}
